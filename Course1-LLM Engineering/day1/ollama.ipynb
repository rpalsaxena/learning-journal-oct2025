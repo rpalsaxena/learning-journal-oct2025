{
 "cells": [
  {
   "cell_type": "code",
   "execution_count": 1,
   "id": "22dfde26",
   "metadata": {},
   "outputs": [],
   "source": [
    "import requests\n",
    "from bs4 import BeautifulSoup\n",
    "from IPython.display import Markdown, display\n"
   ]
  },
  {
   "cell_type": "code",
   "execution_count": 3,
   "id": "373a711b",
   "metadata": {},
   "outputs": [],
   "source": [
    "# Constants\n",
    "\n",
    "OLLAMA_API = \"http://localhost:11434/api/chat\"\n",
    "HEADERS = {\"Content-Type\": \"application/json\"}\n",
    "MODEL = \"gemma3:1b\"\n"
   ]
  },
  {
   "cell_type": "code",
   "execution_count": 8,
   "id": "7c7fcee8",
   "metadata": {},
   "outputs": [],
   "source": [
    "messages = [\n",
    "    {\"role\": \"user\", \"content\": \"Describe some of the business applications of Generative AI. Reply in short\"}\n",
    "]\n",
    "payload = {\n",
    "        \"model\": MODEL,\n",
    "        \"messages\": messages,\n",
    "        \"stream\": False\n",
    "    }\n"
   ]
  },
  {
   "cell_type": "code",
   "execution_count": 7,
   "id": "9622928b",
   "metadata": {},
   "outputs": [
    {
     "name": "stdout",
     "output_type": "stream",
     "text": [
      "Okay, let's dive into the exciting world of business applications for Generative AI! It's moving far beyond just content creation and is starting to have a significant impact on various departments and processes. Here’s a breakdown of some key business applications, categorized for clarity:\n",
      "\n",
      "**1. Marketing & Sales:**\n",
      "\n",
      "* **Personalized Content Creation:** This is HUGE. Generative AI can create highly tailored email campaigns, social media posts, product descriptions, website copy, and even entire marketing briefs – all optimized for specific audience segments. Think: \"Write a tweet about [product] for millennials who enjoy hiking and sustainability.\"\n",
      "* **Image & Video Generation:**\n",
      "    * **Product Mockups & Visuals:** Quickly generate visuals for marketing materials, showcasing products in different settings, or creating realistic product demos without extensive design work.\n",
      "    * **Short Video Creation:** AI can create short, engaging videos from text prompts, significantly reducing video production costs.\n",
      "    * **Animated Explainer Videos:** Generate dynamic animated videos explaining complex products or services.\n",
      "* **Lead Generation & Qualification:** AI can analyze data to identify promising leads, suggest personalized outreach messages, and even draft initial conversations to engage potential clients.\n",
      "* **A/B Testing Content:** Generative AI can create variations of ad copy, landing pages, and emails to test which performs best.\n",
      "\n",
      "\n",
      "**2. Customer Service & Support:**\n",
      "\n",
      "* **Chatbot Enhancement:** Move beyond basic chatbots. Generative AI can provide more natural, human-like conversations, understand complex queries, and even generate unique responses tailored to the customer's situation.\n",
      "* **Ticket Summarization & Resolution:** Quickly summarize customer support tickets and suggest potential solutions, saving agents time.\n",
      "* **Knowledge Base Creation & Maintenance:** Automatically generate articles, FAQs, and documentation based on data and interactions.\n",
      "* **Sentiment Analysis & Routing:** Analyze customer interactions to identify frustrated customers and route them to the appropriate support team.\n",
      "\n",
      "\n",
      "**3. Product Development & Engineering:**\n",
      "\n",
      "* **Code Generation & Debugging:** Tools like GitHub Copilot and Tabnine can generate code snippets, suggest fixes for bugs, and even complete entire functions. This dramatically speeds up the coding process.\n",
      "* **Product Design & Prototyping:** Generate initial designs, explore variations, and even create realistic 3D models based on design briefs.\n",
      "* **Requirements Specification Generation:** Help translate business requirements into detailed technical specifications.\n",
      "* **Test Case Generation:** Automatically create test cases to ensure software quality.\n",
      "\n",
      "\n",
      "**4. Operations & Internal Processes:**\n",
      "\n",
      "* **Report Generation:** Automate the creation of reports, summaries, and analytics dashboards.\n",
      "* **Document Summarization:** Quickly summarize lengthy documents (legal, contracts, research papers) for faster understanding.\n",
      "* **Data Augmentation:**  Expand datasets by generating synthetic data to improve machine learning models.\n",
      "* **Process Automation:**  Generate workflows, create scripts for automating repetitive tasks. (Think: Generating email confirmations, updating records).\n",
      "\n",
      "\n",
      "**5. HR & Recruitment:**\n",
      "\n",
      "* **Resume Screening:**  Analyze resumes for relevant skills and experience, flagging candidates for further review.\n",
      "* **Job Description Generation:** Create engaging and informative job descriptions tailored to specific roles.\n",
      "* **Interview Question Generation:** Generate potential interview questions to assess a candidate's skills and personality.\n",
      "* **Employee Onboarding Materials:**  Quickly create onboarding guides, training materials, and welcome letters.\n",
      "\n",
      "\n",
      "**Specific Types of Generative AI & Their Business Value:**\n",
      "\n",
      "* **Large Language Models (LLMs) like GPT-4:** Powering chatbots, content creation, summarization, translation.\n",
      "* **Diffusion Models (like DALL-E 3, Midjourney):** Creating stunning visuals for marketing, presentations, and product visuals.\n",
      "* **Text-to-Image Models:** Creating complex visuals from text prompts.\n",
      "\n",
      "\n",
      "**Important Considerations:**\n",
      "\n",
      "* **Data Quality is Key:** Generative AI models are only as good as the data they're trained on. Garbage in, garbage out.\n",
      "* **Bias Mitigation:** Generative AI models can inherit biases from their training data, so careful monitoring and mitigation are crucial.\n",
      "* **Ethical Considerations:**  Address issues like deepfakes, misinformation, and copyright.\n",
      "* **Human Oversight:**  Generative AI should *augment*, not replace, human expertise.  Review and refine AI-generated content.\n",
      "\n",
      "---\n",
      "\n",
      "**Resources for Further Learning:**\n",
      "\n",
      "* **OpenAI:** [https://openai.com/](https://openai.com/)\n",
      "* **Microsoft Azure AI:** [https://azure.microsoft.com/ai/](https://azure.microsoft.com/ai/)\n",
      "* **Google AI:** [https://ai.googleblog.com/](https://ai.googleblog.com/)\n",
      "\n",
      "To help me tailor my response further, could you tell me:\n",
      "\n",
      "*   **What industry are you most interested in?** (e.g., marketing, healthcare, finance)\n",
      "*   **What specific business challenges are you hoping Generative AI can help with?** (e.g., marketing efficiency, customer service, cost reduction)\n"
     ]
    }
   ],
   "source": [
    "import ollama\n",
    "\n",
    "response = ollama.chat(model=MODEL, messages=messages)\n",
    "print(response['message']['content'])\n"
   ]
  },
  {
   "cell_type": "code",
   "execution_count": 9,
   "id": "46f5df77",
   "metadata": {},
   "outputs": [
    {
     "name": "stdout",
     "output_type": "stream",
     "text": [
      "Okay, here's a breakdown of business applications of Generative AI in short:\n",
      "\n",
      "*   **Content Creation:** Marketing copy, images, videos (e.g., marketing materials)\n",
      "*   **Product Design:** Generate new product ideas & prototypes\n",
      "*   **Customer Service:** Chatbots, personalized responses\n",
      "*   **Data Augmentation:** Improve training data for AI models\n",
      "*   **Personalization:** Tailor experiences (e.g., recommendations)\n",
      "*   **Code Generation:** Automate software development\n",
      "\n",
      "Do you want more detail on any of these?\n"
     ]
    }
   ],
   "source": [
    "from openai import OpenAI\n",
    "ollama_via_openai = OpenAI(base_url='http://localhost:11434/v1', api_key='ollama')\n",
    "\n",
    "response = ollama_via_openai.chat.completions.create(\n",
    "    model=MODEL,\n",
    "    messages=messages\n",
    ")\n",
    "\n",
    "print(response.choices[0].message.content)\n"
   ]
  },
  {
   "cell_type": "markdown",
   "id": "6f0a8190",
   "metadata": {},
   "source": [
    "This covers the basics\n"
   ]
  },
  {
   "cell_type": "markdown",
   "id": "d2ddc66e",
   "metadata": {},
   "source": []
  }
 ],
 "metadata": {
  "kernelspec": {
   "display_name": "Course1-LLM Engineering (3.13.7)",
   "language": "python",
   "name": "python3"
  },
  "language_info": {
   "codemirror_mode": {
    "name": "ipython",
    "version": 3
   },
   "file_extension": ".py",
   "mimetype": "text/x-python",
   "name": "python",
   "nbconvert_exporter": "python",
   "pygments_lexer": "ipython3",
   "version": "3.13.7"
  }
 },
 "nbformat": 4,
 "nbformat_minor": 5
}
